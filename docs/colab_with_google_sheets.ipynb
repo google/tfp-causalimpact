{
  "nbformat": 4,
  "nbformat_minor": 0,
  "metadata": {
    "accelerator": "GPU",
    "colab": {
      "provenance": [],
      "include_colab_link": true
    },
    "kernelspec": {
      "display_name": "Python 3",
      "name": "python3"
    }
  },
  "cells": [
    {
      "cell_type": "markdown",
      "metadata": {
        "id": "view-in-github",
        "colab_type": "text"
      },
      "source": [
        "<a href=\"https://colab.research.google.com/github/peterlafferty/tfp-causalimpact/blob/main/docs/colab_with_google_sheets.ipynb\" target=\"_parent\"><img src=\"https://colab.research.google.com/assets/colab-badge.svg\" alt=\"Open In Colab\"/></a>"
      ]
    },
    {
      "cell_type": "markdown",
      "source": [
        "#  [Causal Impact] Python Colab with Google Sheets"
      ],
      "metadata": {
        "id": "4zw-e0aYOCm6"
      }
    },
    {
      "cell_type": "markdown",
      "metadata": {
        "id": "JndnmDMp66FL"
      },
      "source": [
        "Copyright 2018 Google LLC.\n",
        "\n",
        "Licensed under the Apache License, Version 2.0 (the \"License\");"
      ]
    },
    {
      "cell_type": "code",
      "metadata": {
        "id": "hMqWDc_m6rUC"
      },
      "source": [
        "# Licensed under the Apache License, Version 2.0 (the \"License\");\n",
        "# you may not use this file except in compliance with the License.\n",
        "# You may obtain a copy of the License at\n",
        "#\n",
        "# https://www.apache.org/licenses/LICENSE-2.0\n",
        "#\n",
        "# Unless required by applicable law or agreed to in writing, software\n",
        "# distributed under the License is distributed on an \"AS IS\" BASIS,\n",
        "# WITHOUT WARRANTIES OR CONDITIONS OF ANY KIND, either express or implied.\n",
        "# See the License for the specific language governing permissions and\n",
        "# limitations under the License."
      ],
      "execution_count": null,
      "outputs": []
    },
    {
      "cell_type": "markdown",
      "metadata": {
        "id": "HgCwaeQxGadT"
      },
      "source": [
        "## Google Sheet Template - Make A Copy"
      ]
    },
    {
      "cell_type": "markdown",
      "metadata": {
        "id": "utYnknzS-BXK"
      },
      "source": [
        "**Copy this Google Sheet to your Drive or create a new Sheet with the same layout**\n",
        " https://docs.google.com/spreadsheets/d/1VIVDdGrwto_4NvH-dP33QWAIlfbHUJGdKyHFM4_kzHc/edit#gid=0\n"
      ]
    },
    {
      "cell_type": "markdown",
      "metadata": {
        "id": "o3zgbzj3GdMR"
      },
      "source": [
        "## Configure The Analysis"
      ]
    },
    {
      "cell_type": "code",
      "metadata": {
        "id": "Dq8CSeEv9Zrj",
        "cellView": "form"
      },
      "source": [
        "# Google Sheet for data streams\n",
        "google_sheets_url = 'https://docs.google.com/spreadsheets/d/1VIVDdGrwto_4NvH-dP33QWAIlfbHUJGdKyHFM4_kzHc/edit#gid=0'#@param\n",
        "\n",
        "#date of event\n",
        "event_date = '2019-10-07'#@param {type:\"date\"}\n",
        "\n",
        "#How many days before intervention will be analyzed\n",
        "days_before_event = 90#@param {type:\"number\"}\n",
        "\n",
        "#how many days post intervention wou want to analyze (including the event date)\n",
        "days_after_event = 7#@param {type:\"number\"}\n",
        "\n",
        "#Number of Series used as Counterfactual (you need at least one, each in a column of the trix)\n",
        "num_series = 5#@param {type:\"number\"}\n",
        "\n",
        "!pip install tfp-causalimpact\n",
        "import pandas as pd\n",
        "import numpy as np\n",
        "import causalimpact"
      ],
      "execution_count": null,
      "outputs": []
    },
    {
      "cell_type": "markdown",
      "metadata": {
        "id": "DiEdg5Y6qvUV"
      },
      "source": [
        "## Load Data From Google Sheets"
      ]
    },
    {
      "cell_type": "code",
      "source": [
        "from google.colab import auth\n",
        "auth.authenticate_user()\n",
        "\n",
        "import gspread\n",
        "from google.auth import default\n",
        "creds, _ = default()\n",
        "\n",
        "gc = gspread.authorize(creds)\n",
        "\n",
        "worksheet = gc.open_by_url(google_sheets_url).sheet1\n",
        "\n",
        "# get_all_values gives a list of rows.\n",
        "rows = worksheet.get_all_values()\n",
        "\n",
        "df=pd.DataFrame.from_records(rows)\n",
        "\n",
        "#get column names from first row\n",
        "df.columns = df.iloc[0]\n",
        "\n",
        "#drop row with column names\n",
        "df = df.drop(df.index[0])\n",
        "\n",
        "#reset indexes\n",
        "df = df.reset_index(drop=True)\n",
        "\n",
        "#convert numeric data to numeric types\n",
        "df = df.apply(pd.to_numeric, errors='ignore')\n",
        "\n",
        "#convert dates to dates type\n",
        "df.date = pd.to_datetime(df.date, format='%Y-%m-%d', errors='ignore')\n",
        "\n",
        "event_index = df.loc[df.date==event_date].index[0]-1"
      ],
      "metadata": {
        "id": "lRPdzQAW5BPW"
      },
      "execution_count": null,
      "outputs": []
    },
    {
      "cell_type": "markdown",
      "source": [
        "## Run The Analysis"
      ],
      "metadata": {
        "id": "7R9Y_ZwpMSip"
      }
    },
    {
      "cell_type": "code",
      "metadata": {
        "id": "O4mliJ6gXzBJ"
      },
      "source": [
        "pre_period = [int(max(0,event_index-days_before_event)), int(event_index)]\n",
        "post_period = [int(event_index+1), int(event_index+days_after_event)]\n",
        "\n",
        "impact = causalimpact.fit_causalimpact(\n",
        "    data=df[df.columns[1:num_series+2]],\n",
        "    pre_period=pre_period,\n",
        "    post_period=post_period)\n",
        "print(causalimpact.summary(impact, output_format='summary'))\n",
        "causalimpact.plot(impact)\n",
        "print(causalimpact.summary(impact, output_format='report'))\n"
      ],
      "execution_count": null,
      "outputs": []
    }
  ]
}